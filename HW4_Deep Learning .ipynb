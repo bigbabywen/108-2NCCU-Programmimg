{
 "cells": [
  {
   "cell_type": "code",
   "execution_count": 12,
   "metadata": {},
   "outputs": [],
   "source": [
    "%matplotlib inline\n",
    "import numpy as np\n",
    "import matplotlib.pyplot as plt\n",
    "import tensorflow as tf\n",
    "from ipywidgets import interact_manual \n",
    "from tensorflow.keras.datasets import fashion_mnist # 讀入 Fashion MNSIT 數據集"
   ]
  },
  {
   "cell_type": "code",
   "execution_count": 13,
   "metadata": {},
   "outputs": [],
   "source": [
    "(x_train, y_train), (x_test, y_test) = fashion_mnist.load_data()"
   ]
  },
  {
   "cell_type": "code",
   "execution_count": 14,
   "metadata": {},
   "outputs": [
    {
     "name": "stdout",
     "output_type": "stream",
     "text": [
      "訓練資料總筆數為 60000 筆資料\n",
      "測試資料總筆數為 10000 筆資料\n"
     ]
    }
   ],
   "source": [
    "print(f'訓練資料總筆數為 {len(x_train)} 筆資料',f'測試資料總筆數為 {len(x_test)} 筆資料',sep='\\n')"
   ]
  },
  {
   "cell_type": "code",
   "execution_count": 15,
   "metadata": {},
   "outputs": [],
   "source": [
    "labelname_dict = {\n",
    "    0:'T-shirt/top',\n",
    "    1:'Trouser',\n",
    "    2:'Pullover',\n",
    "    3:'Dress',\n",
    "    4:'Coat',\n",
    "    5:'Sandal',\n",
    "    6:'Shirt',\n",
    "    7:'Sneaker',\n",
    "    8:'Bag',\n",
    "    9:'Ankle boot'\n",
    "}"
   ]
  },
  {
   "cell_type": "code",
   "execution_count": 16,
   "metadata": {},
   "outputs": [],
   "source": [
    "x_train = x_train/255\n",
    "x_test = x_test/255"
   ]
  },
  {
   "cell_type": "code",
   "execution_count": 17,
   "metadata": {},
   "outputs": [
    {
     "data": {
      "text/plain": [
       "(60000, 28, 28)"
      ]
     },
     "execution_count": 17,
     "metadata": {},
     "output_type": "execute_result"
    }
   ],
   "source": [
    "x_train.shape"
   ]
  },
  {
   "cell_type": "code",
   "execution_count": 18,
   "metadata": {},
   "outputs": [],
   "source": [
    "x_train = x_train.reshape(60000,784)\n",
    "x_test = x_test.reshape(10000,784)"
   ]
  },
  {
   "cell_type": "code",
   "execution_count": 19,
   "metadata": {},
   "outputs": [
    {
     "name": "stdout",
     "output_type": "stream",
     "text": [
      "(60000, 10)\n",
      "(10000, 10)\n"
     ]
    }
   ],
   "source": [
    "from tensorflow.keras.utils import to_categorical\n",
    "\n",
    "y_train = to_categorical(y_train,10)\n",
    "y_test = to_categorical(y_test,10)\n",
    "print(y_train.shape,y_test.shape,sep='\\n')"
   ]
  },
  {
   "cell_type": "code",
   "execution_count": 22,
   "metadata": {},
   "outputs": [],
   "source": [
    "from tensorflow.keras.models import Sequential\n",
    "from tensorflow.keras.layers import Dense\n",
    "from tensorflow.keras.optimizers import SGD\n",
    "\n",
    "model = Sequential()\n",
    "model.add(Dense(100,input_dim=784,activation='relu'))\n",
    "model.add(Dense(100,activation='relu'))\n",
    "model.add(Dense(60,activation='relu'))\n",
    "model.add(Dense(60,activation='relu'))\n",
    "model.add(Dense(10,activation='softmax'))\n",
    "model.compile(loss='mse',optimizer=SGD(lr=0.09),metrics=['accuracy'])"
   ]
  },
  {
   "cell_type": "code",
   "execution_count": 23,
   "metadata": {},
   "outputs": [
    {
     "name": "stdout",
     "output_type": "stream",
     "text": [
      "Model: \"sequential\"\n",
      "_________________________________________________________________\n",
      "Layer (type)                 Output Shape              Param #   \n",
      "=================================================================\n",
      "dense (Dense)                (None, 100)               78500     \n",
      "_________________________________________________________________\n",
      "dense_1 (Dense)              (None, 100)               10100     \n",
      "_________________________________________________________________\n",
      "dense_2 (Dense)              (None, 60)                6060      \n",
      "_________________________________________________________________\n",
      "dense_3 (Dense)              (None, 60)                3660      \n",
      "_________________________________________________________________\n",
      "dense_4 (Dense)              (None, 10)                610       \n",
      "=================================================================\n",
      "Total params: 98,930\n",
      "Trainable params: 98,930\n",
      "Non-trainable params: 0\n",
      "_________________________________________________________________\n"
     ]
    }
   ],
   "source": [
    "model.summary()"
   ]
  },
  {
   "cell_type": "code",
   "execution_count": 24,
   "metadata": {},
   "outputs": [
    {
     "name": "stdout",
     "output_type": "stream",
     "text": [
      "Train on 60000 samples\n",
      "Epoch 1/25\n",
      "60000/60000 [==============================] - 2s 33us/sample - loss: 0.0798 - accuracy: 0.3460\n",
      "Epoch 2/25\n",
      "60000/60000 [==============================] - 1s 25us/sample - loss: 0.0533 - accuracy: 0.6406\n",
      "Epoch 3/25\n",
      "60000/60000 [==============================] - 1s 24us/sample - loss: 0.0396 - accuracy: 0.7250\n",
      "Epoch 4/25\n",
      "60000/60000 [==============================] - 1s 22us/sample - loss: 0.0344 - accuracy: 0.7690\n",
      "Epoch 5/25\n",
      "60000/60000 [==============================] - 1s 23us/sample - loss: 0.0312 - accuracy: 0.7926\n",
      "Epoch 6/25\n",
      "60000/60000 [==============================] - 2s 27us/sample - loss: 0.0291 - accuracy: 0.8053\n",
      "Epoch 7/25\n",
      "60000/60000 [==============================] - 2s 26us/sample - loss: 0.0275 - accuracy: 0.8145\n",
      "Epoch 8/25\n",
      "60000/60000 [==============================] - 1s 23us/sample - loss: 0.0263 - accuracy: 0.8223\n",
      "Epoch 9/25\n",
      "60000/60000 [==============================] - 2s 25us/sample - loss: 0.0254 - accuracy: 0.8271\n",
      "Epoch 10/25\n",
      "60000/60000 [==============================] - 2s 25us/sample - loss: 0.0246 - accuracy: 0.8325\n",
      "Epoch 11/25\n",
      "60000/60000 [==============================] - 2s 25us/sample - loss: 0.0240 - accuracy: 0.8358\n",
      "Epoch 12/25\n",
      "60000/60000 [==============================] - 1s 25us/sample - loss: 0.0235 - accuracy: 0.8393\n",
      "Epoch 13/25\n",
      "60000/60000 [==============================] - 2s 26us/sample - loss: 0.0230 - accuracy: 0.8425\n",
      "Epoch 14/25\n",
      "60000/60000 [==============================] - 1s 23us/sample - loss: 0.0226 - accuracy: 0.8459\n",
      "Epoch 15/25\n",
      "60000/60000 [==============================] - 1s 23us/sample - loss: 0.0223 - accuracy: 0.8489\n",
      "Epoch 16/25\n",
      "60000/60000 [==============================] - 1s 23us/sample - loss: 0.0219 - accuracy: 0.8512\n",
      "Epoch 17/25\n",
      "60000/60000 [==============================] - 1s 23us/sample - loss: 0.0217 - accuracy: 0.8515\n",
      "Epoch 18/25\n",
      "60000/60000 [==============================] - 1s 23us/sample - loss: 0.0213 - accuracy: 0.8541\n",
      "Epoch 19/25\n",
      "60000/60000 [==============================] - 1s 22us/sample - loss: 0.0211 - accuracy: 0.8563\n",
      "Epoch 20/25\n",
      "60000/60000 [==============================] - 1s 24us/sample - loss: 0.0209 - accuracy: 0.8581\n",
      "Epoch 21/25\n",
      "60000/60000 [==============================] - 1s 23us/sample - loss: 0.0206 - accuracy: 0.8594\n",
      "Epoch 22/25\n",
      "60000/60000 [==============================] - 1s 23us/sample - loss: 0.0204 - accuracy: 0.8611\n",
      "Epoch 23/25\n",
      "60000/60000 [==============================] - 1s 23us/sample - loss: 0.0202 - accuracy: 0.8627\n",
      "Epoch 24/25\n",
      "60000/60000 [==============================] - 1s 23us/sample - loss: 0.0201 - accuracy: 0.8636\n",
      "Epoch 25/25\n",
      "60000/60000 [==============================] - 1s 22us/sample - loss: 0.0199 - accuracy: 0.8651\n"
     ]
    },
    {
     "data": {
      "text/plain": [
       "<tensorflow.python.keras.callbacks.History at 0x243e6b9fe80>"
      ]
     },
     "execution_count": 24,
     "metadata": {},
     "output_type": "execute_result"
    }
   ],
   "source": [
    "model.fit(x_train,y_train,batch_size=125,epochs=25)"
   ]
  },
  {
   "cell_type": "code",
   "execution_count": 25,
   "metadata": {},
   "outputs": [],
   "source": [
    "result = model.predict_classes(x_test)"
   ]
  },
  {
   "cell_type": "code",
   "execution_count": 26,
   "metadata": {},
   "outputs": [
    {
     "data": {
      "application/vnd.jupyter.widget-view+json": {
       "model_id": "1d673149daae410b91e74b9fa6015991",
       "version_major": 2,
       "version_minor": 0
      },
      "text/html": [
       "<p>Failed to display Jupyter Widget of type <code>interactive</code>.</p>\n",
       "<p>\n",
       "  If you're reading this message in the Jupyter Notebook or JupyterLab Notebook, it may mean\n",
       "  that the widgets JavaScript is still loading. If this message persists, it\n",
       "  likely means that the widgets JavaScript library is either not installed or\n",
       "  not enabled. See the <a href=\"https://ipywidgets.readthedocs.io/en/stable/user_install.html\">Jupyter\n",
       "  Widgets Documentation</a> for setup instructions.\n",
       "</p>\n",
       "<p>\n",
       "  If you're reading this message in another frontend (for example, a static\n",
       "  rendering on GitHub or <a href=\"https://nbviewer.jupyter.org/\">NBViewer</a>),\n",
       "  it may mean that your frontend doesn't currently support widgets.\n",
       "</p>\n"
      ],
      "text/plain": [
       "interactive(children=(IntSlider(value=0, description='測試編號', max=9999), Button(description='Run Interact', style=ButtonStyle()), Output()), _dom_classes=('widget-interact',))"
      ]
     },
     "metadata": {},
     "output_type": "display_data"
    }
   ],
   "source": [
    "def show_xy(測試編號=0):\n",
    "    ax = plt.gca()\n",
    "    X = x_test[測試編號]\n",
    "    plt.xticks([],[])\n",
    "    plt.yticks([],[])\n",
    "    plt.imshow(x_test[測試編號].reshape(28,28),cmap='Greys')\n",
    "    print(f'神經網路預測的答案為: {labelname_dict[result[測試編號]]}')\n",
    "interact_manual(show_xy,測試編號=(0,9999));"
   ]
  },
  {
   "cell_type": "code",
   "execution_count": 27,
   "metadata": {},
   "outputs": [
    {
     "name": "stdout",
     "output_type": "stream",
     "text": [
      "神經網路預測是: Sandal\n"
     ]
    },
    {
     "data": {
      "text/plain": [
       "<matplotlib.image.AxesImage at 0x243eb679588>"
      ]
     },
     "execution_count": 27,
     "metadata": {},
     "output_type": "execute_result"
    },
    {
     "data": {
      "image/png": "[encoded data removed]",
      "text/plain": [
       "<matplotlib.figure.Figure at 0x243eb2b8e48>"
      ]
     },
     "metadata": {
      "needs_background": "light"
     },
     "output_type": "display_data"
    }
   ],
   "source": [
    "n=2744\n",
    "print('神經網路預測是:',labelname_dict[result[n]])\n",
    "plt.imshow(x_test[n].reshape(28,28),cmap='Greys')"
   ]
  },
  {
   "cell_type": "markdown",
   "metadata": {},
   "source": [
    "# 改變類神經網路的地方\n",
    "* Hidden layer = 5\n",
    "* learning rate = 0.09\n",
    "* batch size = 125\n",
    "* epochs = 25"
   ]
  }
 ],
 "metadata": {
  "kernelspec": {
   "display_name": "Python 3",
   "language": "python",
   "name": "python3"
  },
  "language_info": {
   "codemirror_mode": {
    "name": "ipython",
    "version": 3
   },
   "file_extension": ".py",
   "mimetype": "text/x-python",
   "name": "python",
   "nbconvert_exporter": "python",
   "pygments_lexer": "ipython3",
   "version": "3.6.10"
  }
 },
 "nbformat": 4,
 "nbformat_minor": 2
}
