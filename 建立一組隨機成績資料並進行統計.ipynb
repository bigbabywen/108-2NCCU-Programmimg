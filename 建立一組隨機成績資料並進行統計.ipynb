{
 "cells": [
  {
   "cell_type": "code",
   "execution_count": 9,
   "metadata": {},
   "outputs": [
    {
     "name": "stdout",
     "output_type": "stream",
     "text": [
      "[(106207411, 71, 8, 79, 65), (106207412, 50, 3, 36, 32), (106207413, 58, 96, 88, 84), (106207414, 32, 61, 75, 65), (106207415, 82, 52, 80, 75), (106207416, 100, 78, 26, 48), (106207417, 43, 5, 73, 55), (106207418, 57, 80, 76, 73), (106207419, 56, 31, 78, 65), (106207420, 79, 3, 44, 42), (106207421, 31, 35, 83, 65), (106207422, 66, 78, 36, 48), (106207423, 46, 53, 8, 22), (106207424, 66, 92, 9, 33), (106207425, 37, 28, 33, 32), (106207426, 73, 18, 2, 17), (106207427, 76, 68, 50, 57), (106207428, 70, 27, 61, 56)]\n",
      "學生人數: 18 總成績最高: 84 總成績最低: 17 總成績平均值: 51.888888888888886\n",
      "{'A': 0, 'B': 1, 'C': 2, 'D': 4, 'F': 11, 'Error': 0}\n",
      "總成績 Quiz1 Quiz2 Final 學號\n",
      "(84, 58, 96, 88, 106207413)\n",
      "(75, 82, 52, 80, 106207415)\n",
      "(73, 57, 80, 76, 106207418)\n"
     ]
    }
   ],
   "source": [
    "#建立一組隨機成績資料(包含學號、小考、期末考等)，並計算最高、最低成績等統計資料\n",
    "\n",
    "import random\n",
    "data_list = []\n",
    "Score_list = []\n",
    "data2_list = []\n",
    "def function():\n",
    "    n = random.randint(10,25) #從10到25隨機取一變數\n",
    "    student_number = 106207411\n",
    "    for i in range(n):\n",
    "        i += student_number #利用隨機亂數產生N筆學號\n",
    "        Quiz1 = random.randint(0,100)\n",
    "        Quiz2 = random.randint(0,100)\n",
    "        Final = random.randint(0,100)\n",
    "        Total_Score = int(0.35 * 0.5 * (Quiz1 + Quiz2) + 0.65 * Final)\n",
    "        data = (i, Quiz1, Quiz2, Final, Total_Score)\n",
    "        data_list.append(data)\n",
    "        \n",
    "        data2 = (Total_Score, Quiz1, Quiz2, Final, i)\n",
    "        data2_list.append(data2)\n",
    "        data2_list.sort(reverse = True)\n",
    "        \n",
    "        Score_list.append(Total_Score)\n",
    "        Score_list.sort(reverse = True)\n",
    "    print(data_list)\n",
    "    print(\"學生人數:\", n, \"總成績最高:\", max(Score_list), \"總成績最低:\", min(Score_list), \"總成績平均值:\", sum(Score_list)/n)\n",
    "        \n",
    "        \n",
    "    Grade = {\"A\":0, \"B\":0, \"C\":0, \"D\":0, \"F\":0, \"Error\":0}\n",
    "    for score in Score_list:\n",
    "        if score >= 90:\n",
    "            Grade[\"A\"] += 1\n",
    "        elif 80 <= score <= 89:\n",
    "            Grade[\"B\"] += 1\n",
    "        elif 70 <= score <= 79:\n",
    "            Grade[\"C\"] += 1\n",
    "        elif 60 <= score <= 69:\n",
    "            Grade[\"D\"] += 1\n",
    "        elif score < 60:\n",
    "            Grade[\"F\"] += 1\n",
    "        else:\n",
    "            Grade[\"Error\"] += 1\n",
    "    print(Grade)\n",
    "    \n",
    "    Top1 = data2_list[0]\n",
    "    Top2 = data2_list[1]\n",
    "    Top3 = data2_list[2]\n",
    "    print(\"總成績\",\"Quiz1\",\"Quiz2\",\"Final\",\"學號\") #印出班上成績前三名同學資料\n",
    "    print(Top1) \n",
    "    print(Top2)\n",
    "    print(Top3)\n",
    "            \n",
    "            \n",
    "            \n",
    "function()"
   ]
  },
  {
   "cell_type": "code",
   "execution_count": null,
   "metadata": {},
   "outputs": [],
   "source": []
  },
  {
   "cell_type": "code",
   "execution_count": null,
   "metadata": {},
   "outputs": [],
   "source": []
  }
 ],
 "metadata": {
  "kernelspec": {
   "display_name": "Python 3",
   "language": "python",
   "name": "python3"
  },
  "language_info": {
   "codemirror_mode": {
    "name": "ipython",
    "version": 3
   },
   "file_extension": ".py",
   "mimetype": "text/x-python",
   "name": "python",
   "nbconvert_exporter": "python",
   "pygments_lexer": "ipython3",
   "version": "3.6.4"
  }
 },
 "nbformat": 4,
 "nbformat_minor": 2
}
