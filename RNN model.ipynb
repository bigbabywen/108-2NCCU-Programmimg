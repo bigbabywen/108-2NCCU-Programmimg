{
 "cells": [
  {
   "cell_type": "code",
   "execution_count": 1,
   "metadata": {},
   "outputs": [],
   "source": [
    "%matplotlib inline\n",
    "\n",
    "import numpy as np\n",
    "import matplotlib.pyplot as plt\n",
    "import pandas as pd"
   ]
  },
  {
   "cell_type": "markdown",
   "metadata": {},
   "source": [
    "### 1. 讀入深度學習套件"
   ]
  },
  {
   "cell_type": "code",
   "execution_count": 3,
   "metadata": {},
   "outputs": [],
   "source": [
    "from tensorflow.keras.preprocessing import sequence\n",
    "from tensorflow.keras.models import Sequential\n",
    "from tensorflow.keras.layers import Dense, Embedding\n",
    "from tensorflow.keras.layers import LSTM\n",
    "from tensorflow.keras.datasets import imdb"
   ]
  },
  {
   "cell_type": "markdown",
   "metadata": {},
   "source": [
    "### 2.讀入數據"
   ]
  },
  {
   "cell_type": "code",
   "execution_count": 4,
   "metadata": {},
   "outputs": [],
   "source": [
    "(x_train, y_train), (x_test, y_test) = imdb.load_data(num_words=10000) # 常用字數量"
   ]
  },
  {
   "cell_type": "markdown",
   "metadata": {},
   "source": [
    "### 3. 資料處理 (修改資料長度為80)"
   ]
  },
  {
   "cell_type": "code",
   "execution_count": 5,
   "metadata": {},
   "outputs": [],
   "source": [
    "x_train = sequence.pad_sequences(x_train, maxlen=80) #將每筆評論資料長度設定為80\n",
    "x_test = sequence.pad_sequences(x_test, maxlen=80)"
   ]
  },
  {
   "cell_type": "markdown",
   "metadata": {},
   "source": [
    "### 4. step 01: 打造一個函數學習機"
   ]
  },
  {
   "cell_type": "code",
   "execution_count": 6,
   "metadata": {},
   "outputs": [],
   "source": [
    "model = Sequential()"
   ]
  },
  {
   "cell_type": "code",
   "execution_count": 7,
   "metadata": {},
   "outputs": [],
   "source": [
    "model.add(Embedding(10000, 128)) \n",
    "# 全連結神經網路\n",
    "# one-hot encoding 將1w維的字壓到指定的維度128"
   ]
  },
  {
   "cell_type": "markdown",
   "metadata": {},
   "source": [
    "### 修改LSTM層數為100、dropout為0.1"
   ]
  },
  {
   "cell_type": "code",
   "execution_count": 8,
   "metadata": {},
   "outputs": [],
   "source": [
    "model.add(LSTM(100, dropout=0.1, recurrent_dropout=0.1)) \n",
    "# 激發函數已指定tanh, sigmoid\n",
    "# dropout設定特定百分比數量之神經元無法參與)避免每個神經元分工背答案產生Overfitting"
   ]
  },
  {
   "cell_type": "code",
   "execution_count": 9,
   "metadata": {},
   "outputs": [],
   "source": [
    "model.add(Dense(1, activation='sigmoid'))\n",
    "# 輸出值介於0~1"
   ]
  },
  {
   "cell_type": "code",
   "execution_count": 10,
   "metadata": {},
   "outputs": [],
   "source": [
    "model.compile(loss='binary_crossentropy',\n",
    "             optimizer='adam',\n",
    "             metrics=['accuracy'])"
   ]
  },
  {
   "cell_type": "code",
   "execution_count": 11,
   "metadata": {},
   "outputs": [
    {
     "name": "stdout",
     "output_type": "stream",
     "text": [
      "Model: \"sequential\"\n",
      "_________________________________________________________________\n",
      "Layer (type)                 Output Shape              Param #   \n",
      "=================================================================\n",
      "embedding (Embedding)        (None, None, 128)         1280000   \n",
      "_________________________________________________________________\n",
      "lstm (LSTM)                  (None, 100)               91600     \n",
      "_________________________________________________________________\n",
      "dense (Dense)                (None, 1)                 101       \n",
      "=================================================================\n",
      "Total params: 1,371,701\n",
      "Trainable params: 1,371,701\n",
      "Non-trainable params: 0\n",
      "_________________________________________________________________\n"
     ]
    }
   ],
   "source": [
    "model.summary()"
   ]
  },
  {
   "cell_type": "code",
   "execution_count": 14,
   "metadata": {},
   "outputs": [
    {
     "data": {
      "text/plain": [
       "91600"
      ]
     },
     "execution_count": 14,
     "metadata": {},
     "output_type": "execute_result"
    }
   ],
   "source": [
    "(128+100+1)*4*100\n",
    "# 1個LSTM神經元包含4個小神經元(3gates+本身像RNN的小神經元) \n",
    "# 每個小神經元共(128+100+1)個參數\n",
    "# 共1個LSTM"
   ]
  },
  {
   "cell_type": "markdown",
   "metadata": {},
   "source": [
    "### 5. step 02: 訓練(修改batch_size為64、epochs為8)"
   ]
  },
  {
   "cell_type": "code",
   "execution_count": 15,
   "metadata": {},
   "outputs": [
    {
     "name": "stdout",
     "output_type": "stream",
     "text": [
      "Train on 25000 samples, validate on 25000 samples\n",
      "Epoch 1/8\n",
      "25000/25000 [==============================] - 77s 3ms/sample - loss: 0.4424 - accuracy: 0.7946 - val_loss: 0.3642 - val_accuracy: 0.8389\n",
      "Epoch 2/8\n",
      "25000/25000 [==============================] - 71s 3ms/sample - loss: 0.3057 - accuracy: 0.8729 - val_loss: 0.3677 - val_accuracy: 0.8398\n",
      "Epoch 3/8\n",
      "25000/25000 [==============================] - 72s 3ms/sample - loss: 0.2413 - accuracy: 0.9038 - val_loss: 0.3920 - val_accuracy: 0.8335\n",
      "Epoch 4/8\n",
      "25000/25000 [==============================] - 72s 3ms/sample - loss: 0.1952 - accuracy: 0.9253 - val_loss: 0.4353 - val_accuracy: 0.8142\n",
      "Epoch 5/8\n",
      "25000/25000 [==============================] - 84s 3ms/sample - loss: 0.1528 - accuracy: 0.9420 - val_loss: 0.5878 - val_accuracy: 0.8210\n",
      "Epoch 6/8\n",
      "25000/25000 [==============================] - 71s 3ms/sample - loss: 0.1241 - accuracy: 0.9551 - val_loss: 0.5790 - val_accuracy: 0.8173\n",
      "Epoch 7/8\n",
      "25000/25000 [==============================] - 71s 3ms/sample - loss: 0.1063 - accuracy: 0.9618 - val_loss: 0.5870 - val_accuracy: 0.8213\n",
      "Epoch 8/8\n",
      "25000/25000 [==============================] - 71s 3ms/sample - loss: 0.0916 - accuracy: 0.9677 - val_loss: 0.6429 - val_accuracy: 0.8139\n"
     ]
    },
    {
     "data": {
      "text/plain": [
       "<tensorflow.python.keras.callbacks.History at 0x1e017c1b8d0>"
      ]
     },
     "execution_count": 15,
     "metadata": {},
     "output_type": "execute_result"
    }
   ],
   "source": [
    "model.fit(x_train, y_train, batch_size=64, epochs=8,\n",
    "         validation_data=(x_test, y_test))\n",
    "#validation 以測試資料計算誤差，但仍以訓練資料學習狀況來預測測試資料之結果"
   ]
  }
 ],
 "metadata": {
  "kernelspec": {
   "display_name": "Python 3",
   "language": "python",
   "name": "python3"
  },
  "language_info": {
   "codemirror_mode": {
    "name": "ipython",
    "version": 3
   },
   "file_extension": ".py",
   "mimetype": "text/x-python",
   "name": "python",
   "nbconvert_exporter": "python",
   "pygments_lexer": "ipython3",
   "version": "3.6.10"
  }
 },
 "nbformat": 4,
 "nbformat_minor": 2
}
