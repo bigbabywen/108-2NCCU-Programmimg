{
 "cells": [
  {
   "cell_type": "markdown",
   "metadata": {},
   "source": [
    "### 本次作業將先訓練判斷 Fashion MNIST 資料集之模型，再將該模型部分神經網路拿來訓練 CIFAR-10 資料集"
   ]
  },
  {
   "cell_type": "markdown",
   "metadata": {},
   "source": [
    "## 1. 匯入所需套件"
   ]
  },
  {
   "cell_type": "code",
   "execution_count": 1,
   "metadata": {},
   "outputs": [],
   "source": [
    "# Import some useful packages\n",
    "import matplotlib.pyplot as plt\n",
    "import numpy as np\n",
    "\n",
    "# Layers for FNN\n",
    "from tensorflow.keras.models import Sequential\n",
    "from tensorflow.keras.layers import Dense\n",
    "from tensorflow.keras.layers import Flatten\n",
    "\n",
    "# Layers for CNN\n",
    "from tensorflow.keras.layers import Conv2D, MaxPooling2D, Dropout\n",
    "from tensorflow.keras.optimizers import SGD, Adam\n",
    "\n",
    "# For data preprocessing\n",
    "from tensorflow.keras import datasets\n",
    "from tensorflow.keras.utils import to_categorical"
   ]
  },
  {
   "cell_type": "markdown",
   "metadata": {},
   "source": [
    "## 2. 讀入並整理 Fashion MNSIT 資料集\n",
    "* Fashion MNSIT 是包含 10 種類的灰階小圖資料集，每張圖的尺寸為  28×28 \n"
   ]
  },
  {
   "cell_type": "code",
   "execution_count": 2,
   "metadata": {},
   "outputs": [],
   "source": [
    "name_list = ['T-shirt/top','Trouser','Pullover','Dress','Coat','Sandal','Shirt','Sneaker','Bag','Ankle boot']"
   ]
  },
  {
   "cell_type": "code",
   "execution_count": 3,
   "metadata": {},
   "outputs": [],
   "source": [
    "# Load fashion_mnist\n",
    "from tensorflow.keras.datasets import fashion_mnist\n",
    "(x_train0, y_train0), (x_test0, y_test0) = fashion_mnist.load_data()\n",
    "\n",
    "# 1 stands for one channel(greyscale)\n",
    "# Normalize the range of features\n",
    "x_train = x_train0.reshape(60000, 28, 28, 1) / x_train0.max()\n",
    "x_test = x_test0.reshape(10000, 28, 28, 1) / x_test0.max()\n",
    "\n",
    "# One-hot encoding\n",
    "y_train = to_categorical(y_train0, 10)\n",
    "y_test = to_categorical(y_test0, 10)"
   ]
  },
  {
   "cell_type": "markdown",
   "metadata": {},
   "source": [
    "### 檢視測試資料"
   ]
  },
  {
   "cell_type": "code",
   "execution_count": 4,
   "metadata": {},
   "outputs": [
    {
     "data": {
      "image/png": "[encoded data removed]",
      "text/plain": [
       "<Figure size 432x288 with 1 Axes>"
      ]
     },
     "metadata": {
      "needs_background": "light"
     },
     "output_type": "display_data"
    }
   ],
   "source": [
    "idx = np.random.randint(x_train0.shape[0])\n",
    "x_sample = x_train0[idx]\n",
    "y_sample = y_train0[idx].squeeze()\n",
    "\n",
    "plt.imshow(x_sample)\n",
    "plt.title(name_list[y_sample])\n",
    "plt.axis('off');"
   ]
  },
  {
   "cell_type": "code",
   "execution_count": 5,
   "metadata": {
    "scrolled": true
   },
   "outputs": [
    {
     "name": "stdout",
     "output_type": "stream",
     "text": [
      "(60000, 28, 28, 1)\n",
      "(10000, 28, 28, 1)\n"
     ]
    }
   ],
   "source": [
    "print(x_train.shape, x_test.shape, sep=\"\\n\") # 查看數據型態"
   ]
  },
  {
   "cell_type": "markdown",
   "metadata": {},
   "source": [
    "## 3. 建立用於分類 Fashion MNSIT 的卷積神經網路"
   ]
  },
  {
   "cell_type": "code",
   "execution_count": 6,
   "metadata": {},
   "outputs": [],
   "source": [
    "CNN_layers = [Conv2D(24, (3, 3), padding='same', input_shape=(28, 28, 1), activation='relu', name='Conv_1'),\n",
    "              MaxPooling2D(pool_size = (2,2)),\n",
    "              Conv2D(96, (3, 3), padding='same', activation='relu', name='Conv_2'),\n",
    "              MaxPooling2D(pool_size = (2,2)),\n",
    "              Conv2D(384, (3, 3), padding='same', activation='relu', name='Conv_3'),\n",
    "              MaxPooling2D(pool_size = (2,2))]\n",
    "\n",
    "FC_layers = [Dropout(0.25),\n",
    "             Flatten(),\n",
    "             Dense(units=128, activation='relu'),\n",
    "             Dense(units=10, activation='softmax')]"
   ]
  },
  {
   "cell_type": "code",
   "execution_count": 7,
   "metadata": {},
   "outputs": [
    {
     "name": "stdout",
     "output_type": "stream",
     "text": [
      "Model: \"sequential\"\n",
      "_________________________________________________________________\n",
      "Layer (type)                 Output Shape              Param #   \n",
      "=================================================================\n",
      "Conv_1 (Conv2D)              (None, 28, 28, 24)        240       \n",
      "_________________________________________________________________\n",
      "max_pooling2d (MaxPooling2D) (None, 14, 14, 24)        0         \n",
      "_________________________________________________________________\n",
      "Conv_2 (Conv2D)              (None, 14, 14, 96)        20832     \n",
      "_________________________________________________________________\n",
      "max_pooling2d_1 (MaxPooling2 (None, 7, 7, 96)          0         \n",
      "_________________________________________________________________\n",
      "Conv_3 (Conv2D)              (None, 7, 7, 384)         332160    \n",
      "_________________________________________________________________\n",
      "max_pooling2d_2 (MaxPooling2 (None, 3, 3, 384)         0         \n",
      "_________________________________________________________________\n",
      "dropout (Dropout)            (None, 3, 3, 384)         0         \n",
      "_________________________________________________________________\n",
      "flatten (Flatten)            (None, 3456)              0         \n",
      "_________________________________________________________________\n",
      "dense (Dense)                (None, 128)               442496    \n",
      "_________________________________________________________________\n",
      "dense_1 (Dense)              (None, 10)                1290      \n",
      "=================================================================\n",
      "Total params: 797,018\n",
      "Trainable params: 797,018\n",
      "Non-trainable params: 0\n",
      "_________________________________________________________________\n"
     ]
    }
   ],
   "source": [
    "model = Sequential(CNN_layers + FC_layers)\n",
    "model.summary()"
   ]
  },
  {
   "cell_type": "code",
   "execution_count": 8,
   "metadata": {},
   "outputs": [],
   "source": [
    "#組裝神經網路\n",
    "model.compile(loss='categorical_crossentropy', \n",
    "              optimizer=Adam(),\n",
    "              metrics=['categorical_accuracy'])"
   ]
  },
  {
   "cell_type": "markdown",
   "metadata": {},
   "source": [
    "## 4. 訓練模型"
   ]
  },
  {
   "cell_type": "code",
   "execution_count": 9,
   "metadata": {},
   "outputs": [
    {
     "name": "stdout",
     "output_type": "stream",
     "text": [
      "Epoch 1/5\n",
      "600/600 [==============================] - 167s 278ms/step - loss: 0.4839 - categorical_accuracy: 0.8229 - val_loss: 0.3264 - val_categorical_accuracy: 0.8842\n",
      "Epoch 2/5\n",
      "600/600 [==============================] - 170s 283ms/step - loss: 0.2940 - categorical_accuracy: 0.8921 - val_loss: 0.2741 - val_categorical_accuracy: 0.8992\n",
      "Epoch 3/5\n",
      "600/600 [==============================] - 171s 284ms/step - loss: 0.2507 - categorical_accuracy: 0.9084 - val_loss: 0.2476 - val_categorical_accuracy: 0.9092\n",
      "Epoch 4/5\n",
      "600/600 [==============================] - 170s 284ms/step - loss: 0.2187 - categorical_accuracy: 0.9203 - val_loss: 0.2562 - val_categorical_accuracy: 0.9057\n",
      "Epoch 5/5\n",
      "600/600 [==============================] - 175s 292ms/step - loss: 0.1981 - categorical_accuracy: 0.9269 - val_loss: 0.2328 - val_categorical_accuracy: 0.9146\n"
     ]
    },
    {
     "data": {
      "text/plain": [
       "<tensorflow.python.keras.callbacks.History at 0x251d06af940>"
      ]
     },
     "execution_count": 9,
     "metadata": {},
     "output_type": "execute_result"
    }
   ],
   "source": [
    "model.fit(x_train, y_train, \n",
    "          batch_size=100, \n",
    "          epochs=5,\n",
    "          validation_data=(x_test, y_test))"
   ]
  },
  {
   "cell_type": "markdown",
   "metadata": {},
   "source": [
    "## 5. 模型預測: 預測資料集的準確率"
   ]
  },
  {
   "cell_type": "code",
   "execution_count": 10,
   "metadata": {},
   "outputs": [
    {
     "name": "stdout",
     "output_type": "stream",
     "text": [
      "1875/1875 [==============================] - 39s 21ms/step - loss: 0.1619 - categorical_accuracy: 0.9402\n",
      "313/313 [==============================] - 6s 20ms/step - loss: 0.2328 - categorical_accuracy: 0.9146\n",
      "Train Accuracy: 94.01666522026062\n",
      "Test Accuracy: 91.46000146865845\n"
     ]
    }
   ],
   "source": [
    "score_train = model.evaluate(x_train, y_train)\n",
    "score_test = model.evaluate(x_test, y_test)\n",
    "\n",
    "print(f'Train Accuracy: {score_train[1]*100}')\n",
    "print(f'Test Accuracy: {score_test[1]*100}')"
   ]
  },
  {
   "cell_type": "markdown",
   "metadata": {},
   "source": [
    "# 遷移學習(Transfer Learning)"
   ]
  },
  {
   "cell_type": "markdown",
   "metadata": {},
   "source": [
    "## 1. 讀入整理 CIFAR 10 資料集\n",
    "* CIFAR 10 是包含 10 種類的彩色小圖資料集，每張圖的尺寸為  32×32"
   ]
  },
  {
   "cell_type": "code",
   "execution_count": 28,
   "metadata": {},
   "outputs": [],
   "source": [
    "# Load CIFAR 10\n",
    "(u_train, v_train0), (u_test, v_test0) = datasets.cifar10.load_data()\n",
    "\n",
    "# Normalize the range of features\n",
    "u_train = u_train / u_train.max()\n",
    "u_test = u_test / u_test.max()\n",
    "\n",
    "# One-hot encoding\n",
    "v_train = to_categorical(v_train0, 10)\n",
    "v_test = to_categorical(v_test0, 10)"
   ]
  },
  {
   "cell_type": "markdown",
   "metadata": {},
   "source": [
    "### 檢視測試資料"
   ]
  },
  {
   "cell_type": "code",
   "execution_count": 29,
   "metadata": {},
   "outputs": [
    {
     "data": {
      "image/png": "[encoded data removed]",
      "text/plain": [
       "<Figure size 432x288 with 1 Axes>"
      ]
     },
     "metadata": {
      "needs_background": "light"
     },
     "output_type": "display_data"
    }
   ],
   "source": [
    "idx = np.random.randint(u_train.shape[0])\n",
    "u_sample = u_train[idx]\n",
    "v_sample = v_train0[idx].squeeze()\n",
    "\n",
    "plt.imshow(u_sample)\n",
    "plt.title(name_list[v_sample])\n",
    "plt.axis('off');"
   ]
  },
  {
   "cell_type": "markdown",
   "metadata": {},
   "source": [
    "## 2. Layer transfer"
   ]
  },
  {
   "cell_type": "code",
   "execution_count": 30,
   "metadata": {},
   "outputs": [],
   "source": [
    "# New CNN layers for CIFAR-10\n",
    "CNN_layers_CF10 = [Conv2D(24, (3, 3), padding='same', input_shape=(32, 32, 3), activation='relu', name='Conv_1'),\n",
    "                   MaxPooling2D(pool_size = (2,2)),\n",
    "                   Conv2D(96, (3, 3), padding='same', activation='relu', name='Conv_2'),\n",
    "                   MaxPooling2D(pool_size = (2,2)),\n",
    "                   Conv2D(384, (3, 3), padding='same', activation='relu', name='Conv_3'),\n",
    "                   MaxPooling2D(pool_size = (2,2))]"
   ]
  },
  {
   "cell_type": "code",
   "execution_count": 31,
   "metadata": {},
   "outputs": [
    {
     "name": "stdout",
     "output_type": "stream",
     "text": [
      "Model: \"sequential_6\"\n",
      "_________________________________________________________________\n",
      "Layer (type)                 Output Shape              Param #   \n",
      "=================================================================\n",
      "Conv_1 (Conv2D)              (None, 32, 32, 24)        672       \n",
      "_________________________________________________________________\n",
      "max_pooling2d_15 (MaxPooling (None, 16, 16, 24)        0         \n",
      "_________________________________________________________________\n",
      "Conv_2 (Conv2D)              (None, 16, 16, 96)        20832     \n",
      "_________________________________________________________________\n",
      "max_pooling2d_16 (MaxPooling (None, 8, 8, 96)          0         \n",
      "_________________________________________________________________\n",
      "Conv_3 (Conv2D)              (None, 8, 8, 384)         332160    \n",
      "_________________________________________________________________\n",
      "max_pooling2d_17 (MaxPooling (None, 4, 4, 384)         0         \n",
      "_________________________________________________________________\n",
      "dropout_1 (Dropout)          (None, 4, 4, 384)         0         \n",
      "_________________________________________________________________\n",
      "flatten_1 (Flatten)          (None, 6144)              0         \n",
      "_________________________________________________________________\n",
      "dense_2 (Dense)              (None, 128)               786560    \n",
      "_________________________________________________________________\n",
      "dense_3 (Dense)              (None, 10)                1290      \n",
      "=================================================================\n",
      "Total params: 1,141,514\n",
      "Trainable params: 353,664\n",
      "Non-trainable params: 787,850\n",
      "_________________________________________________________________\n"
     ]
    }
   ],
   "source": [
    "model_CF10 = Sequential(CNN_layers_CF10 + FC_layers)\n",
    "model_CF10.summary()"
   ]
  },
  {
   "cell_type": "markdown",
   "metadata": {},
   "source": [
    "## 3. 採Frozen的訓練方式"
   ]
  },
  {
   "cell_type": "code",
   "execution_count": 32,
   "metadata": {},
   "outputs": [],
   "source": [
    "for layer in FC_layers:\n",
    "    layer.trainable = False"
   ]
  },
  {
   "cell_type": "code",
   "execution_count": 33,
   "metadata": {
    "scrolled": true
   },
   "outputs": [
    {
     "name": "stdout",
     "output_type": "stream",
     "text": [
      "Model: \"sequential_6\"\n",
      "_________________________________________________________________\n",
      "Layer (type)                 Output Shape              Param #   \n",
      "=================================================================\n",
      "Conv_1 (Conv2D)              (None, 32, 32, 24)        672       \n",
      "_________________________________________________________________\n",
      "max_pooling2d_15 (MaxPooling (None, 16, 16, 24)        0         \n",
      "_________________________________________________________________\n",
      "Conv_2 (Conv2D)              (None, 16, 16, 96)        20832     \n",
      "_________________________________________________________________\n",
      "max_pooling2d_16 (MaxPooling (None, 8, 8, 96)          0         \n",
      "_________________________________________________________________\n",
      "Conv_3 (Conv2D)              (None, 8, 8, 384)         332160    \n",
      "_________________________________________________________________\n",
      "max_pooling2d_17 (MaxPooling (None, 4, 4, 384)         0         \n",
      "_________________________________________________________________\n",
      "dropout_1 (Dropout)          (None, 4, 4, 384)         0         \n",
      "_________________________________________________________________\n",
      "flatten_1 (Flatten)          (None, 6144)              0         \n",
      "_________________________________________________________________\n",
      "dense_2 (Dense)              (None, 128)               786560    \n",
      "_________________________________________________________________\n",
      "dense_3 (Dense)              (None, 10)                1290      \n",
      "=================================================================\n",
      "Total params: 1,141,514\n",
      "Trainable params: 353,664\n",
      "Non-trainable params: 787,850\n",
      "_________________________________________________________________\n"
     ]
    }
   ],
   "source": [
    "model_CF10.summary()"
   ]
  },
  {
   "cell_type": "markdown",
   "metadata": {},
   "source": [
    "## 4. 訓練模型"
   ]
  },
  {
   "cell_type": "code",
   "execution_count": 34,
   "metadata": {},
   "outputs": [
    {
     "name": "stdout",
     "output_type": "stream",
     "text": [
      "Epoch 1/5\n",
      "500/500 [==============================] - 174s 349ms/step - loss: 1.6863 - categorical_accuracy: 0.3899 - val_loss: 1.3447 - val_categorical_accuracy: 0.5241\n",
      "Epoch 2/5\n",
      "500/500 [==============================] - 197s 393ms/step - loss: 1.3436 - categorical_accuracy: 0.5233 - val_loss: 1.1960 - val_categorical_accuracy: 0.5870\n",
      "Epoch 3/5\n",
      "500/500 [==============================] - 201s 403ms/step - loss: 1.1874 - categorical_accuracy: 0.5829 - val_loss: 1.0741 - val_categorical_accuracy: 0.6241\n",
      "Epoch 4/5\n",
      "500/500 [==============================] - 202s 405ms/step - loss: 1.0820 - categorical_accuracy: 0.6223 - val_loss: 0.9886 - val_categorical_accuracy: 0.6574\n",
      "Epoch 5/5\n",
      "500/500 [==============================] - 182s 364ms/step - loss: 1.0116 - categorical_accuracy: 0.6483 - val_loss: 0.9691 - val_categorical_accuracy: 0.6669\n"
     ]
    },
    {
     "data": {
      "text/plain": [
       "<tensorflow.python.keras.callbacks.History at 0x251de239a90>"
      ]
     },
     "execution_count": 34,
     "metadata": {},
     "output_type": "execute_result"
    }
   ],
   "source": [
    "model_CF10.compile(loss='categorical_crossentropy', \n",
    "                    optimizer=Adam(),\n",
    "                    metrics=['categorical_accuracy'])\n",
    "\n",
    "model_CF10.fit(u_train, v_train,\n",
    "                batch_size=100, \n",
    "                epochs=5,\n",
    "                validation_data=(u_test, v_test))"
   ]
  },
  {
   "cell_type": "markdown",
   "metadata": {},
   "source": [
    "## 5. 模型預測: 預測資料集的準確率"
   ]
  },
  {
   "cell_type": "code",
   "execution_count": 35,
   "metadata": {},
   "outputs": [
    {
     "name": "stdout",
     "output_type": "stream",
     "text": [
      "1563/1563 [==============================] - 39s 25ms/step - loss: 0.8748 - categorical_accuracy: 0.7009\n",
      "313/313 [==============================] - 10s 32ms/step - loss: 0.9691 - categorical_accuracy: 0.6669\n",
      "Train Accuracy: 70.08799910545349\n",
      "Test Accuracy: 66.68999791145325\n"
     ]
    }
   ],
   "source": [
    "score_train = model_CF10.evaluate(u_train, v_train)\n",
    "score_test = model_CF10.evaluate(u_test, v_test)\n",
    "\n",
    "print(f'Train Accuracy: {score_train[1]*100}')\n",
    "print(f'Test Accuracy: {score_test[1]*100}')"
   ]
  },
  {
   "cell_type": "markdown",
   "metadata": {},
   "source": [
    "## 6. 查看舊模型的預測表現是否受到影響"
   ]
  },
  {
   "cell_type": "code",
   "execution_count": 36,
   "metadata": {},
   "outputs": [
    {
     "name": "stdout",
     "output_type": "stream",
     "text": [
      "1875/1875 [==============================] - 36s 19ms/step - loss: 0.1619 - categorical_accuracy: 0.94020s - loss: 0.1620 - categorical_accuracy\n",
      "313/313 [==============================] - 6s 20ms/step - loss: 0.2328 - categorical_accuracy: 0.9146\n",
      "Train Accuracy: 94.01666522026062\n",
      "Test Accuracy: 91.46000146865845\n"
     ]
    }
   ],
   "source": [
    "score_train = model.evaluate(x_train, y_train)\n",
    "score_test = model.evaluate(x_test, y_test)\n",
    "\n",
    "print(f'Train Accuracy: {score_train[1]*100}')\n",
    "print(f'Test Accuracy: {score_test[1]*100}')"
   ]
  },
  {
   "cell_type": "markdown",
   "metadata": {},
   "source": [
    "* 可見舊模型之預測表現不受遷移學習後影響，原因是我們採用了Frozen而非Fine-tune之訓練方式，在訓練新模型中並沒有將借來的神經網路重新訓練"
   ]
  }
 ],
 "metadata": {
  "kernelspec": {
   "display_name": "Python 3",
   "language": "python",
   "name": "python3"
  },
  "language_info": {
   "codemirror_mode": {
    "name": "ipython",
    "version": 3
   },
   "file_extension": ".py",
   "mimetype": "text/x-python",
   "name": "python",
   "nbconvert_exporter": "python",
   "pygments_lexer": "ipython3",
   "version": "3.6.8"
  }
 },
 "nbformat": 4,
 "nbformat_minor": 4
}
